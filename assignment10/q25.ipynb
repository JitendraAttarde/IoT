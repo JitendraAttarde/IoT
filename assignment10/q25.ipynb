{
 "cells": [
  {
   "cell_type": "code",
   "execution_count": 1,
   "id": "6c107e5a-0b40-4878-a2b2-8a79ab945764",
   "metadata": {},
   "outputs": [],
   "source": [
    "import numpy as np"
   ]
  },
  {
   "cell_type": "code",
   "execution_count": 13,
   "id": "8e938a20-9012-4317-9d65-9edb0d601ee5",
   "metadata": {},
   "outputs": [
    {
     "name": "stdout",
     "output_type": "stream",
     "text": [
      "[20 21 22 23 24 25 26 27 28 29 30 31 32 33 34 35 36 37 38 39 40 41 42 43\n",
      " 44 45 46 47 48 49]\n",
      "[ 6.66666667  7.          7.33333333  7.66666667  8.          8.33333333\n",
      "  8.66666667  9.          9.33333333  9.66666667 10.         10.33333333\n",
      " 10.66666667 11.         11.33333333 11.66666667 12.         12.33333333\n",
      " 12.66666667 13.         13.33333333 13.66666667 14.         14.33333333\n",
      " 14.66666667 15.         15.33333333 15.66666667 16.         16.33333333]\n"
     ]
    }
   ],
   "source": [
    "x = np.arange(20, 50)\n",
    "print(x)\n",
    "print(x / 3)"
   ]
  }
 ],
 "metadata": {
  "kernelspec": {
   "display_name": "Python 3 (ipykernel)",
   "language": "python",
   "name": "python3"
  },
  "language_info": {
   "codemirror_mode": {
    "name": "ipython",
    "version": 3
   },
   "file_extension": ".py",
   "mimetype": "text/x-python",
   "name": "python",
   "nbconvert_exporter": "python",
   "pygments_lexer": "ipython3",
   "version": "3.10.12"
  }
 },
 "nbformat": 4,
 "nbformat_minor": 5
}
