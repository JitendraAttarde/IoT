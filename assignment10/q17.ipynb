{
 "cells": [
  {
   "cell_type": "code",
   "execution_count": 2,
   "id": "802d245c-9fa7-44c2-a691-7af2c0075e12",
   "metadata": {},
   "outputs": [],
   "source": [
    "import numpy as np"
   ]
  },
  {
   "cell_type": "code",
   "execution_count": 3,
   "id": "227901f7-0810-4a71-8a85-3ef8fbaff3c9",
   "metadata": {},
   "outputs": [
    {
     "name": "stdout",
     "output_type": "stream",
     "text": [
      "[[[0.68480098 0.81874488 0.0331396  0.74127281]\n",
      "  [0.60443064 0.72113304 0.80086755 0.05952291]\n",
      "  [0.15537745 0.21934284 0.7987467  0.89280257]]\n",
      "\n",
      " [[0.34754113 0.62049658 0.30563253 0.14285843]\n",
      "  [0.08220014 0.06341926 0.51739674 0.72672197]\n",
      "  [0.50219863 0.09716364 0.85658889 0.80920839]]]\n"
     ]
    }
   ],
   "source": [
    "x = np.random.random((2, 3, 4))\n",
    "print(x)"
   ]
  }
 ],
 "metadata": {
  "kernelspec": {
   "display_name": "Python 3 (ipykernel)",
   "language": "python",
   "name": "python3"
  },
  "language_info": {
   "codemirror_mode": {
    "name": "ipython",
    "version": 3
   },
   "file_extension": ".py",
   "mimetype": "text/x-python",
   "name": "python",
   "nbconvert_exporter": "python",
   "pygments_lexer": "ipython3",
   "version": "3.10.12"
  }
 },
 "nbformat": 4,
 "nbformat_minor": 5
}
