{
 "cells": [
  {
   "cell_type": "code",
   "execution_count": 1,
   "id": "76591a7c-4564-4884-877e-3e310c40dfd2",
   "metadata": {},
   "outputs": [],
   "source": [
    "import numpy as np"
   ]
  },
  {
   "cell_type": "code",
   "execution_count": 4,
   "id": "01eff2af-61b4-42bc-ba69-859442bd9c81",
   "metadata": {},
   "outputs": [],
   "source": [
    "a1 = ([10,20,30,40,50])\n",
    "a2 = ([20,10,30,50,40])"
   ]
  },
  {
   "cell_type": "code",
   "execution_count": 8,
   "id": "7ab62c32-692f-4fd7-b427-0180079617c8",
   "metadata": {},
   "outputs": [
    {
     "name": "stdout",
     "output_type": "stream",
     "text": [
      "[False  True False False  True]\n"
     ]
    }
   ],
   "source": [
    "print(np.greater(a1,a2))"
   ]
  },
  {
   "cell_type": "code",
   "execution_count": 9,
   "id": "a34f7d10-343a-4a3e-8b8a-572990e37f08",
   "metadata": {},
   "outputs": [
    {
     "name": "stdout",
     "output_type": "stream",
     "text": [
      "[False  True  True False  True]\n"
     ]
    }
   ],
   "source": [
    "print(np.greater_equal(a1,a2))"
   ]
  },
  {
   "cell_type": "code",
   "execution_count": 10,
   "id": "c47cc4c6-decc-4430-ab05-aae7c899cf64",
   "metadata": {},
   "outputs": [
    {
     "name": "stdout",
     "output_type": "stream",
     "text": [
      "[ True False False  True False]\n"
     ]
    }
   ],
   "source": [
    "print(np.less(a1,a2))"
   ]
  },
  {
   "cell_type": "code",
   "execution_count": 11,
   "id": "892c1ad0-c7e9-44fc-aa87-77e1ba35cd7c",
   "metadata": {},
   "outputs": [
    {
     "name": "stdout",
     "output_type": "stream",
     "text": [
      "[ True False  True  True False]\n"
     ]
    }
   ],
   "source": [
    "print(np.less_equal(a1,a2))"
   ]
  }
 ],
 "metadata": {
  "kernelspec": {
   "display_name": "Python 3 (ipykernel)",
   "language": "python",
   "name": "python3"
  },
  "language_info": {
   "codemirror_mode": {
    "name": "ipython",
    "version": 3
   },
   "file_extension": ".py",
   "mimetype": "text/x-python",
   "name": "python",
   "nbconvert_exporter": "python",
   "pygments_lexer": "ipython3",
   "version": "3.10.12"
  }
 },
 "nbformat": 4,
 "nbformat_minor": 5
}
