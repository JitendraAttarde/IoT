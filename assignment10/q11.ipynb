{
 "cells": [
  {
   "cell_type": "code",
   "execution_count": 1,
   "id": "f355d50b-0490-4252-9e50-5a312e43de8d",
   "metadata": {},
   "outputs": [],
   "source": [
    "import numpy as np"
   ]
  },
  {
   "cell_type": "code",
   "execution_count": 9,
   "id": "470c6198-cbaf-48ac-968c-b339737da816",
   "metadata": {},
   "outputs": [],
   "source": [
    "a1 = np.array([12,15,18])\n",
    "a2 = np.array([20,25,27])"
   ]
  },
  {
   "cell_type": "code",
   "execution_count": 10,
   "id": "2359bbea-5b35-4324-9a02-0c9ecb660f35",
   "metadata": {},
   "outputs": [
    {
     "name": "stdout",
     "output_type": "stream",
     "text": [
      "[32 40 45]\n"
     ]
    }
   ],
   "source": [
    "print(a1+ a2)"
   ]
  },
  {
   "cell_type": "code",
   "execution_count": 11,
   "id": "c477d848-1a31-4fc6-bcf2-e38ee98b2c12",
   "metadata": {},
   "outputs": [
    {
     "name": "stdout",
     "output_type": "stream",
     "text": [
      "[ -8 -10  -9]\n"
     ]
    }
   ],
   "source": [
    "print(a1 - a2)"
   ]
  },
  {
   "cell_type": "code",
   "execution_count": 12,
   "id": "26598c68-0ec2-4e59-8022-09916db94f6a",
   "metadata": {},
   "outputs": [
    {
     "name": "stdout",
     "output_type": "stream",
     "text": [
      "[240 375 486]\n"
     ]
    }
   ],
   "source": [
    "print(a1 * a2)"
   ]
  },
  {
   "cell_type": "code",
   "execution_count": 13,
   "id": "2f6e2215-6541-4b97-95e3-400e67b5a46f",
   "metadata": {},
   "outputs": [
    {
     "name": "stdout",
     "output_type": "stream",
     "text": [
      "[0.6        0.6        0.66666667]\n"
     ]
    }
   ],
   "source": [
    "print(a1 / a2)"
   ]
  }
 ],
 "metadata": {
  "kernelspec": {
   "display_name": "Python 3 (ipykernel)",
   "language": "python",
   "name": "python3"
  },
  "language_info": {
   "codemirror_mode": {
    "name": "ipython",
    "version": 3
   },
   "file_extension": ".py",
   "mimetype": "text/x-python",
   "name": "python",
   "nbconvert_exporter": "python",
   "pygments_lexer": "ipython3",
   "version": "3.10.12"
  }
 },
 "nbformat": 4,
 "nbformat_minor": 5
}
