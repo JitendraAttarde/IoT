{
 "cells": [
  {
   "cell_type": "code",
   "execution_count": 1,
   "id": "43e299be-97fe-4267-83fc-31fcd085ef9a",
   "metadata": {},
   "outputs": [],
   "source": [
    "import numpy as np"
   ]
  },
  {
   "cell_type": "code",
   "execution_count": 10,
   "id": "6a097919-bc97-4ae8-8770-314d8bd6e42e",
   "metadata": {},
   "outputs": [],
   "source": [
    "m = np.arange(10, 22).reshape(4,3)"
   ]
  },
  {
   "cell_type": "code",
   "execution_count": 11,
   "id": "3ca1262a-9c69-4dd2-8b3a-121f7b07f006",
   "metadata": {},
   "outputs": [
    {
     "name": "stdout",
     "output_type": "stream",
     "text": [
      "(4, 3)\n"
     ]
    }
   ],
   "source": [
    "print(m.shape)"
   ]
  }
 ],
 "metadata": {
  "kernelspec": {
   "display_name": "Python 3 (ipykernel)",
   "language": "python",
   "name": "python3"
  },
  "language_info": {
   "codemirror_mode": {
    "name": "ipython",
    "version": 3
   },
   "file_extension": ".py",
   "mimetype": "text/x-python",
   "name": "python",
   "nbconvert_exporter": "python",
   "pygments_lexer": "ipython3",
   "version": "3.10.12"
  }
 },
 "nbformat": 4,
 "nbformat_minor": 5
}
