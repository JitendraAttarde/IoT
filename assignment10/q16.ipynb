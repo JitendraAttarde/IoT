{
 "cells": [
  {
   "cell_type": "code",
   "execution_count": 1,
   "id": "e54fc103-c494-4b36-a39e-55078e5ea519",
   "metadata": {},
   "outputs": [],
   "source": [
    "import numpy as np"
   ]
  },
  {
   "cell_type": "code",
   "execution_count": 2,
   "id": "91c70af9-0d0f-49f6-b34a-67dd6f380e73",
   "metadata": {},
   "outputs": [
    {
     "name": "stdout",
     "output_type": "stream",
     "text": [
      "[[[8.34221145e-02 3.49533126e-01 7.66596319e-02]\n",
      "  [4.93058348e-01 1.99325026e-01 6.45994876e-01]\n",
      "  [1.54294311e-01 4.84088580e-01 8.75019906e-01]]\n",
      "\n",
      " [[4.02885823e-01 3.38508717e-02 3.26691287e-01]\n",
      "  [9.19365066e-01 5.37029783e-01 6.85783866e-01]\n",
      "  [7.24172072e-01 6.43793717e-02 1.27678708e-01]]\n",
      "\n",
      " [[9.86479478e-01 9.08858310e-01 5.88074410e-01]\n",
      "  [5.28835344e-01 9.75834847e-02 3.52256426e-01]\n",
      "  [5.75204792e-05 4.45936907e-01 5.56569992e-01]]]\n"
     ]
    }
   ],
   "source": [
    "x = np.random.random((3, 3, 3))\n",
    "print(x)"
   ]
  }
 ],
 "metadata": {
  "kernelspec": {
   "display_name": "Python 3 (ipykernel)",
   "language": "python",
   "name": "python3"
  },
  "language_info": {
   "codemirror_mode": {
    "name": "ipython",
    "version": 3
   },
   "file_extension": ".py",
   "mimetype": "text/x-python",
   "name": "python",
   "nbconvert_exporter": "python",
   "pygments_lexer": "ipython3",
   "version": "3.10.12"
  }
 },
 "nbformat": 4,
 "nbformat_minor": 5
}
